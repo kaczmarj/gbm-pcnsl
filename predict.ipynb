{
 "cells": [
  {
   "cell_type": "markdown",
   "metadata": {},
   "source": [
    "# Predict"
   ]
  },
  {
   "cell_type": "code",
   "execution_count": null,
   "metadata": {},
   "outputs": [],
   "source": [
    "import csv\n",
    "from pathlib import Path\n",
    "\n",
    "import numpy as np\n",
    "from PIL import Image\n",
    "import tensorflow as tf\n",
    "\n",
    "tfk = tf.keras\n",
    "tfkl = tfk.layers\n",
    "\n",
    "\n",
    "def preprocess_img(filename):\n",
    "    \"\"\"Process an image in the same way that was done for training.\"\"\"\n",
    "    size = (380, 380)\n",
    "    img = Image.open(filename)\n",
    "    img = img.convert('RGB')\n",
    "    img = img.resize(size=size, resample=Image.LANCZOS)\n",
    "    # Transform to [-1, 1]\n",
    "    img = np.asarray(img) / 127.5 - 1.0\n",
    "    return img.astype(np.float32)"
   ]
  },
  {
   "cell_type": "code",
   "execution_count": null,
   "metadata": {},
   "outputs": [],
   "source": [
    "# Preprocess all images in testing set.\n",
    "files = list(Path(\"../TEST_blind/TEST(blind)\").glob(\"*.png\"))\n",
    "x = np.stack(list(map(preprocess_img, files)))"
   ]
  },
  {
   "cell_type": "code",
   "execution_count": null,
   "metadata": {
    "scrolled": true
   },
   "outputs": [],
   "source": [
    "# Map the SavedModels to CSV files that will contain results of inference.\n",
    "mapping = {\n",
    "    \"savedmodels/augment\": \"outputs/augment/inference.csv\",\n",
    "    \"savedmodels/no-augment\": \"outputs/no-augment/inference.csv\",\n",
    "    \"savedmodels/augment-noise\": \"outputs/augment-noise/inference.csv\",\n",
    "}\n",
    "\n",
    "for savedmodel, output in mapping.items():\n",
    "    print(f\"++ Running inference on {savedmodel} and saving to {output}\")\n",
    "    \n",
    "    Path(output).parents[0].mkdir(parents=True, exist_ok=False)\n",
    "\n",
    "    model = tf.keras.models.load_model(savedmodel, compile=False)\n",
    "    y_probs = model.predict(x, batch_size=8, verbose=True)\n",
    "    y_probs = y_probs.flatten()\n",
    "    y_preds = (y_probs > 0.5).astype(np.int32)\n",
    "    # y_preds = y_probs.argmax(-1)  # GBM = 0, PCNSL = 1\n",
    "    \n",
    "    y_preds_str = map(lambda p: \"gbm\" if p == 0 else \"pcnsl\", y_preds)\n",
    "    filenames = map(lambda p: p.name, files)\n",
    "    # rows = list(zip(filenames, y_preds_str, y_probs[:, 0], y_probs[:, 1]))\n",
    "    rows = list(zip(filenames, y_preds_str, 1 - y_probs, y_probs))\n",
    "    rows.insert(0, (\"filename\", \"prediction\", \"prob_gbm\", \"prob_pcnsl\"))\n",
    "\n",
    "    with open(output, \"w\", newline=\"\") as csvfile:\n",
    "        writer = csv.writer(csvfile)\n",
    "        writer.writerows(rows)"
   ]
  },
  {
   "cell_type": "markdown",
   "metadata": {},
   "source": [
    "# ROC curves\n",
    "\n",
    "https://scikit-learn.org/stable/auto_examples/model_selection/plot_roc.html#sphx-glr-auto-examples-model-selection-plot-roc-py\n",
    "\n",
    "AUC confidence intervals https://stackoverflow.com/a/19132400/5666087"
   ]
  },
  {
   "cell_type": "code",
   "execution_count": null,
   "metadata": {},
   "outputs": [],
   "source": [
    "from pathlib import Path\n",
    "\n",
    "import matplotlib.pyplot as plt\n",
    "import numpy as np\n",
    "import pandas as pd\n",
    "from sklearn import metrics"
   ]
  },
  {
   "cell_type": "code",
   "execution_count": null,
   "metadata": {},
   "outputs": [],
   "source": [
    "def auc_bootstrap(y_true, y_pred, n_bootstraps, seed=None):\n",
    "    # With help from https://stackoverflow.com/a/19132400/5666087\n",
    "    bootstrapped_aucs = np.empty(n_bootstraps)\n",
    "    prng = np.random.RandomState(seed)\n",
    "    for i in range(n_bootstraps):\n",
    "        indices = prng.randint(0, y_pred.shape[0], y_pred.shape[0])\n",
    "        if len(np.unique(y_true[indices])) < 2:\n",
    "            continue\n",
    "        bootstrapped_aucs[i] = metrics.roc_auc_score(\n",
    "            y_true[indices], y_pred[indices])\n",
    "        print(f\"{round((i + 1) / n_bootstraps * 100, 2)} % completed bootstrapping\", end=\"\\r\")\n",
    "    print()\n",
    "    bootstrapped_aucs.sort()\n",
    "    return bootstrapped_aucs\n",
    "\n",
    "def plot_roc(y_true, y_pred, positive_class, n_bootstraps=10000, seed=None):\n",
    "    fpr, tpr, _ = metrics.roc_curve(y_true=y_true, y_score=y_score)\n",
    "    \n",
    "    aucs = auc_bootstrap(y_true, y_score, n_bootstraps=n_bootstraps, seed=seed)\n",
    "    roc_auc = aucs.mean()\n",
    "    confidence_95 = aucs[int(0.025 * aucs.shape[0])], aucs[int(0.975 * aucs.shape[0])]\n",
    "\n",
    "    fig = plt.figure()\n",
    "    lw = 2\n",
    "    plt.plot(fpr, tpr, color='black', lw=lw)\n",
    "    plt.plot([0, 1], [0, 1], color='black', lw=lw, linestyle='--')\n",
    "    plt.xlim([0.0, 1.0])\n",
    "    plt.ylim([0.0, 1.05])\n",
    "    plt.xlabel('False Positive Rate')\n",
    "    plt.ylabel('True Positive Rate')\n",
    "    plt.title(f'ROC for GBM vs PCNSL ({positive_class} is positive class)')\n",
    "    \n",
    "    print(f\"ROC curve (area = {roc_auc:0.02f}\")\n",
    "    print(f\"95% CI = {confidence_95[0]:0.2f} - {confidence_95[1]:0.2f}\")\n",
    "    print(n_bootstraps, \"bootstraps\")\n",
    "    \n",
    "    return fig, roc_auc, confidence_95"
   ]
  },
  {
   "cell_type": "code",
   "execution_count": null,
   "metadata": {
    "scrolled": false
   },
   "outputs": [],
   "source": [
    "N_BOOTSTRAPS = 10000\n",
    "SEED = 42\n",
    "\n",
    "for prediction_file in mapping.values():\n",
    "    \n",
    "    print(\"\\n++ Calculating metrics for\", prediction_file)\n",
    "    \n",
    "    prediction_file = Path(prediction_file)\n",
    "    save_dir = prediction_file.parents[0]\n",
    "    \n",
    "    df = pd.read_excel(\"PCNSL_GBM_Predictions.xlsx\", sheet_name=2, index_col='filename')\n",
    "    df_probs = pd.read_csv(prediction_file, index_col=\"filename\")\n",
    "    df_probs.loc[:, \"class\"] = df.loc[:, \"class\"]\n",
    "    del df  # To be sure we don't reference this by accident.\n",
    "    df_probs.head()\n",
    "\n",
    "    # PCNSL == 1\n",
    "    print(\"++ PCNSL == 1\")\n",
    "    y_true = (df_probs.loc[:, 'class'] == 'pcnsl').astype(int)\n",
    "    y_score = df_probs.loc[:, 'prob_pcnsl']\n",
    "    fig, roc_auc, confidence_95 = plot_roc(\n",
    "        y_true, y_score, \"PCNSL\", n_bootstraps=N_BOOTSTRAPS, seed=SEED)\n",
    "    fig.savefig(save_dir / \"pcnsl_roc_curve.pdf\")\n",
    "    with (save_dir / \"pcnsl_metrics.txt\").open(\"w\") as f:\n",
    "        print(\"PCNSL results\")\n",
    "        print(f\"ROC AUC = {roc_auc}\", file=f)\n",
    "        print(f\"95% CI = {confidence_95[0]:0.2f} - {confidence_95[1]:0.2f}\", file=f)\n",
    "        print(f\"Using {N_BOOTSTRAPS:,d} bootstraps\", file=f)\n",
    "        print(file=f)\n",
    "        print(metrics.classification_report(y_true, y_score > 0.5, target_names=[\"GBM\", \"PCNSL\"]), file=f)\n",
    "        \n",
    "\n",
    "    # GBM == 1\n",
    "    print(\"++ GBM == 1\")\n",
    "    y_true = (df_probs.loc[:, 'class'] == 'gbm').astype(int)\n",
    "    y_score = df_probs.loc[:, 'prob_gbm']\n",
    "    fig, roc_auc, confidence_95 = plot_roc(\n",
    "        y_true, y_score, \"GBM\", n_bootstraps=N_BOOTSTRAPS, seed=SEED)\n",
    "    fig.savefig(save_dir / \"gbm_roc_curve.pdf\")\n",
    "    with (save_dir / \"gbm_metrics.txt\").open(\"w\") as f:\n",
    "        print(\"GBM results\", file=f)\n",
    "        print(f\"ROC AUC = {roc_auc}\", file=f)\n",
    "        print(f\"95% CI = {confidence_95[0]:0.2f} - {confidence_95[1]:0.2f}\", file=f)\n",
    "        print(f\"Using {N_BOOTSTRAPS:,d} bootstraps\", file=f)\n",
    "        print(file=f)\n",
    "        print(metrics.classification_report(y_true, y_score > 0.5, target_names=[\"PCNSL\", \"GBM\"]), file=f)"
   ]
  },
  {
   "cell_type": "code",
   "execution_count": null,
   "metadata": {},
   "outputs": [],
   "source": []
  }
 ],
 "metadata": {
  "kernelspec": {
   "display_name": "Python [conda env:paola]",
   "language": "python",
   "name": "conda-env-paola-py"
  },
  "language_info": {
   "codemirror_mode": {
    "name": "ipython",
    "version": 3
   },
   "file_extension": ".py",
   "mimetype": "text/x-python",
   "name": "python",
   "nbconvert_exporter": "python",
   "pygments_lexer": "ipython3",
   "version": "3.7.6"
  }
 },
 "nbformat": 4,
 "nbformat_minor": 2
}
